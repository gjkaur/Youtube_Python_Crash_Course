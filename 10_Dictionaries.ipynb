{
 "cells": [
  {
   "cell_type": "markdown",
   "metadata": {},
   "source": [
    "# Dictionaries\n",
    "\n",
    "### Video Outline:\n",
    "\n",
    "- Introduction to Dictionaries\n",
    "- Creating Dictionaries\n",
    "- Accessing Dictionary Elements\n",
    "- Modifying Dictionary Elements\n",
    "- Dictionary Methods\n",
    "- Iterating Over Dictionaries\n",
    "- Nested Dictionaries\n",
    "- Dictionary Comprehensions\n",
    "- Practical Examples and Common Errors"
   ]
  },
  {
   "cell_type": "markdown",
   "metadata": {},
   "source": [
    "### Dictionaries:\n",
    "\n",
    "- Doctionares are unordered collections of items. They store data in key-value pairs.\n",
    "- Keys must be unique and immutable (e.g., strings, numbers, or tuples), while values can be of any type."
   ]
  },
  {
   "cell_type": "code",
   "execution_count": 1,
   "metadata": {},
   "outputs": [
    {
     "name": "stdout",
     "output_type": "stream",
     "text": [
      "<class 'dict'>\n"
     ]
    }
   ],
   "source": [
    "# Creating Dictionaries\n",
    "\n",
    "empty_dict = {}\n",
    "print(type(empty_dict))"
   ]
  },
  {
   "cell_type": "code",
   "execution_count": 2,
   "metadata": {},
   "outputs": [
    {
     "data": {
      "text/plain": [
       "{}"
      ]
     },
     "execution_count": 2,
     "metadata": {},
     "output_type": "execute_result"
    }
   ],
   "source": [
    "empty_dict = dict()\n",
    "empty_dict"
   ]
  },
  {
   "cell_type": "code",
   "execution_count": 5,
   "metadata": {},
   "outputs": [
    {
     "name": "stdout",
     "output_type": "stream",
     "text": [
      "{'name': 'Gurinderjeet', 'age': 32, 'grade': 24}\n",
      "<class 'dict'>\n"
     ]
    }
   ],
   "source": [
    "student = {\"name\": \"Gurinderjeet\", \"age\": 32, \"grade\": 24}\n",
    "print(student)\n",
    "print(type(student))"
   ]
  },
  {
   "cell_type": "code",
   "execution_count": 6,
   "metadata": {},
   "outputs": [
    {
     "name": "stdout",
     "output_type": "stream",
     "text": [
      "{'name': 24, 'age': 32}\n",
      "<class 'dict'>\n"
     ]
    }
   ],
   "source": [
    "# Error - unique keys only, other the value will get replaced - single key is always used\n",
    "\n",
    "student = {\"name\": \"Gurinderjeet\", \"age\": 32, \"name\": 24}\n",
    "print(student)\n",
    "print(type(student))"
   ]
  },
  {
   "cell_type": "code",
   "execution_count": 10,
   "metadata": {},
   "outputs": [
    {
     "name": "stdout",
     "output_type": "stream",
     "text": [
      "{'name': 'Gurinderjeet', 'age': 32, 'grade': 'A'}\n",
      "<class 'dict'>\n",
      "A\n",
      "32\n"
     ]
    }
   ],
   "source": [
    "# Accessing dictionary elements\n",
    "\n",
    "student = {\"name\": \"Gurinderjeet\", \"age\": 32, \"grade\": \"A\"}\n",
    "print(student)\n",
    "print(type(student))\n",
    "\n",
    "\n",
    "print(student['grade'])\n",
    "print(student['age'])"
   ]
  },
  {
   "cell_type": "code",
   "execution_count": 12,
   "metadata": {},
   "outputs": [
    {
     "name": "stdout",
     "output_type": "stream",
     "text": [
      "A\n",
      "None\n",
      "Not Available\n"
     ]
    }
   ],
   "source": [
    "# Accessing using get() method\n",
    "\n",
    "print(student.get('grade'))\n",
    "print(student.get('last_name')) # None if key is not present\n",
    "print(student.get('last_name', \"Not Available\")) # default value"
   ]
  },
  {
   "cell_type": "code",
   "execution_count": 13,
   "metadata": {},
   "outputs": [
    {
     "name": "stdout",
     "output_type": "stream",
     "text": [
      "{'name': 'Gurinderjeet', 'age': 32, 'grade': 'A'}\n"
     ]
    }
   ],
   "source": [
    "# Modifying Dictionary Elements\n",
    "\n",
    "# Dictionary are mutable, so you can add, update or delete elements\n",
    "\n",
    "print(student)"
   ]
  },
  {
   "cell_type": "code",
   "execution_count": 14,
   "metadata": {},
   "outputs": [
    {
     "name": "stdout",
     "output_type": "stream",
     "text": [
      "{'name': 'Gurinderjeet', 'age': 33, 'grade': 'A'}\n",
      "{'name': 'Gurinderjeet', 'age': 33, 'grade': 'A', 'address': 'India'}\n"
     ]
    }
   ],
   "source": [
    "student[\"age\"] = 33 # updated value\n",
    "print(student)\n",
    "student[\"address\"] = \"India\" # added new key and value\n",
    "print(student)"
   ]
  },
  {
   "cell_type": "code",
   "execution_count": 15,
   "metadata": {},
   "outputs": [
    {
     "name": "stdout",
     "output_type": "stream",
     "text": [
      "{'name': 'Gurinderjeet', 'age': 33, 'grade': 'A', 'address': 'Canada'}\n"
     ]
    }
   ],
   "source": [
    "student[\"address\"] = \"Canada\" # updated value\n",
    "print(student)"
   ]
  },
  {
   "cell_type": "code",
   "execution_count": 16,
   "metadata": {},
   "outputs": [
    {
     "name": "stdout",
     "output_type": "stream",
     "text": [
      "{'name': 'Gurinderjeet', 'age': 33, 'address': 'Canada'}\n"
     ]
    }
   ],
   "source": [
    "del student['grade'] # delete key and value pair\n",
    "print(student)"
   ]
  },
  {
   "cell_type": "code",
   "execution_count": 18,
   "metadata": {},
   "outputs": [
    {
     "name": "stdout",
     "output_type": "stream",
     "text": [
      "dict_keys(['name', 'age', 'address'])\n",
      "dict_values(['Gurinderjeet', 33, 'Canada'])\n",
      "dict_items([('name', 'Gurinderjeet'), ('age', 33), ('address', 'Canada')])\n"
     ]
    }
   ],
   "source": [
    "# Dictionary methods\n",
    "\n",
    "keys = student.keys() # get all the keys\n",
    "print(keys)\n",
    "values = student.values() # get all the values\n",
    "print(values)\n",
    "\n",
    "# get all key-value pairs\n",
    "items = student.items() # get all key-value pairs\n",
    "print(items)\n"
   ]
  },
  {
   "cell_type": "code",
   "execution_count": 20,
   "metadata": {},
   "outputs": [
    {
     "name": "stdout",
     "output_type": "stream",
     "text": [
      "{'name': 'Gurinderjeet', 'age': 33, 'address': 'Canada'}\n",
      "{'name': 'Gurinderjeet', 'age': 33, 'address': 'Canada'}\n"
     ]
    }
   ],
   "source": [
    "# Shallow copy\n",
    "\n",
    "student_copy = student\n",
    "print(student)\n",
    "print(student_copy)"
   ]
  },
  {
   "cell_type": "code",
   "execution_count": 21,
   "metadata": {},
   "outputs": [
    {
     "name": "stdout",
     "output_type": "stream",
     "text": [
      "{'name': 'Gurinderjeet Kaur', 'age': 33, 'address': 'Canada'}\n",
      "{'name': 'Gurinderjeet Kaur', 'age': 33, 'address': 'Canada'}\n"
     ]
    }
   ],
   "source": [
    "student['name'] = \"Gurinderjeet Kaur\"\n",
    "print(student)\n",
    "print(student_copy) # big problem - how to maintain a separate copy?"
   ]
  },
  {
   "cell_type": "code",
   "execution_count": 22,
   "metadata": {},
   "outputs": [
    {
     "name": "stdout",
     "output_type": "stream",
     "text": [
      "{'name': 'Gurinderjeet Kaur', 'age': 33, 'address': 'Canada'}\n",
      "{'name': 'Gurinderjeet Kaur', 'age': 33, 'address': 'Canada'}\n"
     ]
    }
   ],
   "source": [
    "# Shallow copy\n",
    "\n",
    "student_copy1 = student.copy() # allocate different memory\n",
    "print(student_copy1)\n",
    "print(student)"
   ]
  },
  {
   "cell_type": "code",
   "execution_count": 24,
   "metadata": {},
   "outputs": [
    {
     "name": "stdout",
     "output_type": "stream",
     "text": [
      "{'name': 'Dr. Gurinderjeet Kaur', 'age': 33, 'address': 'Canada'}\n",
      "{'name': 'Gurinderjeet Kaur', 'age': 33, 'address': 'Canada'}\n"
     ]
    }
   ],
   "source": [
    "student[\"name\"] = \"Dr. Gurinderjeet Kaur\"\n",
    "print(student)\n",
    "print(student_copy1)"
   ]
  },
  {
   "cell_type": "code",
   "execution_count": 28,
   "metadata": {},
   "outputs": [
    {
     "name": "stdout",
     "output_type": "stream",
     "text": [
      "name\n",
      "age\n",
      "address\n"
     ]
    }
   ],
   "source": [
    "# Iterating Over Dictionaries\n",
    "\n",
    "# Use Loops to Iterate over Dictionaries - keys, values, items (key-value pair)\n",
    "# Iterating over keys\n",
    "for k in student.keys():\n",
    "    print(k)"
   ]
  },
  {
   "cell_type": "code",
   "execution_count": 27,
   "metadata": {},
   "outputs": [
    {
     "name": "stdout",
     "output_type": "stream",
     "text": [
      "Dr. Gurinderjeet Kaur\n",
      "33\n",
      "Canada\n"
     ]
    }
   ],
   "source": [
    "# Iterating over values\n",
    "for v in student.values():\n",
    "    print(v)"
   ]
  },
  {
   "cell_type": "code",
   "execution_count": 30,
   "metadata": {},
   "outputs": [
    {
     "name": "stdout",
     "output_type": "stream",
     "text": [
      "Key:  {'name'} Value:  {'Dr. Gurinderjeet Kaur'}\n",
      "Key:  {'age'} Value:  {33}\n",
      "Key:  {'address'} Value:  {'Canada'}\n"
     ]
    }
   ],
   "source": [
    "# Iterating over items\n",
    "for k, v in student.items():\n",
    "    print(f\"Key: \", {k}, \"Value: \", {v})\n",
    "    "
   ]
  },
  {
   "cell_type": "code",
   "execution_count": 32,
   "metadata": {},
   "outputs": [
    {
     "name": "stdout",
     "output_type": "stream",
     "text": [
      "name, Dr. Gurinderjeet Kaur\n",
      "age, 33\n",
      "address, Canada\n"
     ]
    }
   ],
   "source": [
    "# Iterating over items\n",
    "for k, v in student.items():\n",
    "    print(f\"{k}, {v}\")\n",
    "    "
   ]
  },
  {
   "cell_type": "code",
   "execution_count": 34,
   "metadata": {},
   "outputs": [
    {
     "name": "stdout",
     "output_type": "stream",
     "text": [
      "{'student1': {'name': 'Gurinderjeet', 'age': 32}, 'student2': {'name': 'Ravinderjeet', 'age': 30}}\n"
     ]
    }
   ],
   "source": [
    "# Nested Dictionaries\n",
    "\n",
    "students = {\n",
    "    \"student1\" : {\"name\" : \"Gurinderjeet\" , \"age\" : 32},\n",
    "    \"student2\" : {\"name\" : \"Ravinderjeet\", \"age\" : 30}\n",
    "}\n",
    "print(students)\n"
   ]
  },
  {
   "cell_type": "code",
   "execution_count": 35,
   "metadata": {},
   "outputs": [
    {
     "name": "stdout",
     "output_type": "stream",
     "text": [
      "Gurinderjeet\n",
      "Ravinderjeet\n"
     ]
    }
   ],
   "source": [
    "# Access nested dictionaries elements\n",
    "\n",
    "print(students[\"student1\"][\"name\"])\n",
    "print(students[\"student2\"][\"name\"])"
   ]
  },
  {
   "cell_type": "code",
   "execution_count": 36,
   "metadata": {},
   "outputs": [
    {
     "data": {
      "text/plain": [
       "dict_items([('student1', {'name': 'Gurinderjeet', 'age': 32}), ('student2', {'name': 'Ravinderjeet', 'age': 30})])"
      ]
     },
     "execution_count": 36,
     "metadata": {},
     "output_type": "execute_result"
    }
   ],
   "source": [
    "students.items()"
   ]
  },
  {
   "cell_type": "code",
   "execution_count": 37,
   "metadata": {},
   "outputs": [
    {
     "name": "stdout",
     "output_type": "stream",
     "text": [
      "student1 : {'name': 'Gurinderjeet', 'age': 32}\n",
      "name : Gurinderjeet\n",
      "age : 32\n",
      "student2 : {'name': 'Ravinderjeet', 'age': 30}\n",
      "name : Ravinderjeet\n",
      "age : 30\n"
     ]
    }
   ],
   "source": [
    "# Iterating over nested dictionaries\n",
    "\n",
    "for student_id, student_info in students.items():\n",
    "    print(f\"{student_id} : {student_info}\")\n",
    "    for key, value in student_info.items():\n",
    "        print(f\"{key} : {value}\")"
   ]
  },
  {
   "cell_type": "code",
   "execution_count": 38,
   "metadata": {},
   "outputs": [
    {
     "name": "stdout",
     "output_type": "stream",
     "text": [
      "{0: 0, 1: 1, 2: 4, 3: 9, 4: 16}\n"
     ]
    }
   ],
   "source": [
    "# Dictionary comprehension\n",
    "\n",
    "squares = {x : x ** 2 for x in range(5)} # square of numbers\n",
    "print(squares)"
   ]
  },
  {
   "cell_type": "code",
   "execution_count": 39,
   "metadata": {},
   "outputs": [
    {
     "name": "stdout",
     "output_type": "stream",
     "text": [
      "{0: 0, 2: 4, 4: 16, 6: 36, 8: 64}\n"
     ]
    }
   ],
   "source": [
    "# Conditional Dictionary Comprehension\n",
    "\n",
    "evens = {x : x ** 2 for x in range(10) if x % 2 == 0} # square of even numbers only\n",
    "print(evens)"
   ]
  },
  {
   "cell_type": "markdown",
   "metadata": {},
   "source": [
    "- Use a dictionary to count the frequency of elements in list."
   ]
  },
  {
   "cell_type": "code",
   "execution_count": 41,
   "metadata": {},
   "outputs": [
    {
     "name": "stdout",
     "output_type": "stream",
     "text": [
      "{1: 1, 2: 1, 3: 4, 4: 4}\n"
     ]
    }
   ],
   "source": [
    "# Practical Examples\n",
    "\n",
    "numbers = [1, 2, 3, 3, 3, 3, 4, 4, 4, 4]\n",
    "frequency = {}\n",
    "\n",
    "for number in numbers:\n",
    "    if number in frequency:\n",
    "        frequency[number] += 1 # increment and assignment\n",
    "    else:\n",
    "        frequency[number] = 1\n",
    "print(frequency)"
   ]
  },
  {
   "cell_type": "code",
   "execution_count": 42,
   "metadata": {},
   "outputs": [
    {
     "name": "stdout",
     "output_type": "stream",
     "text": [
      "{'a': 1, 'b': 3, 'c': 4}\n"
     ]
    }
   ],
   "source": [
    "# Merge two dictionaries into one\n",
    "\n",
    "dict1 = {\"a\" : 1, \"b\" : 2}\n",
    "dict2 = {\"b\" : 3, \"c\" : 4}\n",
    "merged_dict = {**dict1, **dict2} # any number of key-value pairs and append it (keyword-arguments)\n",
    "print(merged_dict)\n"
   ]
  },
  {
   "cell_type": "code",
   "execution_count": null,
   "metadata": {},
   "outputs": [],
   "source": []
  }
 ],
 "metadata": {
  "kernelspec": {
   "display_name": "Python 3",
   "language": "python",
   "name": "python3"
  },
  "language_info": {
   "codemirror_mode": {
    "name": "ipython",
    "version": 3
   },
   "file_extension": ".py",
   "mimetype": "text/x-python",
   "name": "python",
   "nbconvert_exporter": "python",
   "pygments_lexer": "ipython3",
   "version": "3.12.4"
  }
 },
 "nbformat": 4,
 "nbformat_minor": 2
}
